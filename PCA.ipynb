{
  "cells": [
    {
      "cell_type": "markdown",
      "metadata": {
        "id": "view-in-github",
        "colab_type": "text"
      },
      "source": [
        "<a href=\"https://colab.research.google.com/github/jphysycs/bing/blob/main/PCA.ipynb\" target=\"_parent\"><img src=\"https://colab.research.google.com/assets/colab-badge.svg\" alt=\"Open In Colab\"/></a>"
      ]
    },
    {
      "cell_type": "code",
      "execution_count": null,
      "id": "84af1e80-7ed3-4038-9326-5a0e2ba7d23e",
      "metadata": {
        "id": "84af1e80-7ed3-4038-9326-5a0e2ba7d23e",
        "outputId": "d3175d63-4d53-48ec-9b3f-a8d287cc96e9"
      },
      "outputs": [
        {
          "name": "stdout",
          "output_type": "stream",
          "text": [
            "Collecting pandas\n",
            "  Downloading pandas-2.0.3-cp311-cp311-manylinux_2_17_x86_64.manylinux2014_x86_64.whl (12.2 MB)\n",
            "\u001b[2K     \u001b[38;2;114;156;31m━━━━━━━━━━━━━━━━━━━━━━━━━━━━━━━━━━━━━━━━\u001b[0m \u001b[32m12.2/12.2 MB\u001b[0m \u001b[31m4.0 MB/s\u001b[0m eta \u001b[36m0:00:00\u001b[0mm eta \u001b[36m0:00:01\u001b[0m[36m0:00:01\u001b[0m\n",
            "\u001b[?25hRequirement already satisfied: python-dateutil>=2.8.2 in /home/joaopedro/env/lib/python3.11/site-packages (from pandas) (2.8.2)\n",
            "Collecting pytz>=2020.1\n",
            "  Downloading pytz-2023.3-py2.py3-none-any.whl (502 kB)\n",
            "\u001b[2K     \u001b[38;2;114;156;31m━━━━━━━━━━━━━━━━━━━━━━━━━━━━━━━━━━━━━━━\u001b[0m \u001b[32m502.3/502.3 kB\u001b[0m \u001b[31m1.4 MB/s\u001b[0m eta \u001b[36m0:00:00\u001b[0mm eta \u001b[36m0:00:01\u001b[0m0:01\u001b[0m\n",
            "\u001b[?25hCollecting tzdata>=2022.1\n",
            "  Downloading tzdata-2023.3-py2.py3-none-any.whl (341 kB)\n",
            "\u001b[2K     \u001b[38;2;114;156;31m━━━━━━━━━━━━━━━━━━━━━━━━━━━━━━━━━━━━━━━\u001b[0m \u001b[32m341.8/341.8 kB\u001b[0m \u001b[31m1.7 MB/s\u001b[0m eta \u001b[36m0:00:00\u001b[0mm eta \u001b[36m0:00:01\u001b[0m[36m0:00:01\u001b[0m\n",
            "\u001b[?25hCollecting numpy>=1.21.0\n",
            "  Downloading numpy-1.25.2-cp311-cp311-manylinux_2_17_x86_64.manylinux2014_x86_64.whl (18.2 MB)\n",
            "\u001b[2K     \u001b[38;2;114;156;31m━━━━━━━━━━━━━━━━━━━━━━━━━━━━━━━━━━━━━━━━\u001b[0m \u001b[32m18.2/18.2 MB\u001b[0m \u001b[31m4.1 MB/s\u001b[0m eta \u001b[36m0:00:00\u001b[0mm eta \u001b[36m0:00:01\u001b[0m[36m0:00:01\u001b[0m\n",
            "\u001b[?25hRequirement already satisfied: six>=1.5 in /home/joaopedro/env/lib/python3.11/site-packages (from python-dateutil>=2.8.2->pandas) (1.16.0)\n",
            "Installing collected packages: pytz, tzdata, numpy, pandas\n",
            "Successfully installed numpy-1.25.2 pandas-2.0.3 pytz-2023.3 tzdata-2023.3\n",
            "Note: you may need to restart the kernel to use updated packages.\n"
          ]
        }
      ],
      "source": [
        "pip install pandas"
      ]
    },
    {
      "cell_type": "code",
      "execution_count": null,
      "id": "c8fda74e-ff52-4156-bf08-af093f7a3275",
      "metadata": {
        "id": "c8fda74e-ff52-4156-bf08-af093f7a3275"
      },
      "outputs": [],
      "source": [
        "import pandas as pd\n",
        "import numpy as np\n",
        "import seaborn as sns\n",
        "import matplotlib.pyplot as plt\n",
        "%matplotlib inline"
      ]
    },
    {
      "cell_type": "code",
      "execution_count": null,
      "id": "1b87158e-55f0-4485-a978-6796f658ce5a",
      "metadata": {
        "id": "1b87158e-55f0-4485-a978-6796f658ce5a",
        "outputId": "97737d6c-5170-4a7d-b1aa-3941026f329c"
      },
      "outputs": [
        {
          "name": "stdout",
          "output_type": "stream",
          "text": [
            "Collecting seaborn\n",
            "  Downloading seaborn-0.12.2-py3-none-any.whl (293 kB)\n",
            "\u001b[2K     \u001b[38;2;114;156;31m━━━━━━━━━━━━━━━━━━━━━━━━━━━━━━━━━━━━━\u001b[0m \u001b[32m293.3/293.3 kB\u001b[0m \u001b[31m930.9 kB/s\u001b[0m eta \u001b[36m0:00:00\u001b[0m[36m0:00:01\u001b[0m[36m0:00:01\u001b[0m:01\u001b[0m\n",
            "\u001b[?25hRequirement already satisfied: numpy!=1.24.0,>=1.17 in /home/joaopedro/env/lib/python3.11/site-packages (from seaborn) (1.25.2)\n",
            "Requirement already satisfied: pandas>=0.25 in /home/joaopedro/env/lib/python3.11/site-packages (from seaborn) (2.0.3)\n",
            "Collecting matplotlib!=3.6.1,>=3.1\n",
            "  Downloading matplotlib-3.7.2-cp311-cp311-manylinux_2_17_x86_64.manylinux2014_x86_64.whl (11.6 MB)\n",
            "\u001b[2K     \u001b[38;2;114;156;31m━━━━━━━━━━━━━━━━━━━━━━━━━━━━━━━━━━━━━━━━\u001b[0m \u001b[32m11.6/11.6 MB\u001b[0m \u001b[31m3.6 MB/s\u001b[0m eta \u001b[36m0:00:00\u001b[0mm eta \u001b[36m0:00:01\u001b[0m[36m0:00:01\u001b[0m\n",
            "\u001b[?25hCollecting contourpy>=1.0.1\n",
            "  Downloading contourpy-1.1.0-cp311-cp311-manylinux_2_17_x86_64.manylinux2014_x86_64.whl (300 kB)\n",
            "\u001b[2K     \u001b[38;2;114;156;31m━━━━━━━━━━━━━━━━━━━━━━━━━━━━━━━━━━━━━━━\u001b[0m \u001b[32m300.4/300.4 kB\u001b[0m \u001b[31m1.2 MB/s\u001b[0m eta \u001b[36m0:00:00\u001b[0mm eta \u001b[36m0:00:01\u001b[0m0:01\u001b[0m:01\u001b[0m\n",
            "\u001b[?25hCollecting cycler>=0.10\n",
            "  Downloading cycler-0.11.0-py3-none-any.whl (6.4 kB)\n",
            "Collecting fonttools>=4.22.0\n",
            "  Downloading fonttools-4.42.0-cp311-cp311-manylinux_2_17_x86_64.manylinux2014_x86_64.whl (4.9 MB)\n",
            "\u001b[2K     \u001b[38;2;114;156;31m━━━━━━━━━━━━━━━━━━━━━━━━━━━━━━━━━━━━━━━━\u001b[0m \u001b[32m4.9/4.9 MB\u001b[0m \u001b[31m3.8 MB/s\u001b[0m eta \u001b[36m0:00:00\u001b[0mm eta \u001b[36m0:00:01\u001b[0m[36m0:00:01\u001b[0m\n",
            "\u001b[?25hCollecting kiwisolver>=1.0.1\n",
            "  Downloading kiwisolver-1.4.4-cp311-cp311-manylinux_2_17_x86_64.manylinux2014_x86_64.whl (1.4 MB)\n",
            "\u001b[2K     \u001b[38;2;114;156;31m━━━━━━━━━━━━━━━━━━━━━━━━━━━━━━━━━━━━━━━━\u001b[0m \u001b[32m1.4/1.4 MB\u001b[0m \u001b[31m3.4 MB/s\u001b[0m eta \u001b[36m0:00:00\u001b[0mm eta \u001b[36m0:00:01\u001b[0m[36m0:00:01\u001b[0m\n",
            "\u001b[?25hRequirement already satisfied: packaging>=20.0 in /home/joaopedro/env/lib/python3.11/site-packages (from matplotlib!=3.6.1,>=3.1->seaborn) (23.1)\n",
            "Collecting pillow>=6.2.0\n",
            "  Downloading Pillow-10.0.0-cp311-cp311-manylinux_2_28_x86_64.whl (3.4 MB)\n",
            "\u001b[2K     \u001b[38;2;114;156;31m━━━━━━━━━━━━━━━━━━━━━━━━━━━━━━━━━━━━━━━━\u001b[0m \u001b[32m3.4/3.4 MB\u001b[0m \u001b[31m3.6 MB/s\u001b[0m eta \u001b[36m0:00:00\u001b[0mm eta \u001b[36m0:00:01\u001b[0m[36m0:00:01\u001b[0m\n",
            "\u001b[?25hCollecting pyparsing<3.1,>=2.3.1\n",
            "  Downloading pyparsing-3.0.9-py3-none-any.whl (98 kB)\n",
            "\u001b[2K     \u001b[38;2;114;156;31m━━━━━━━━━━━━━━━━━━━━━━━━━━━━━━━━━━━━━━━\u001b[0m \u001b[32m98.3/98.3 kB\u001b[0m \u001b[31m408.1 kB/s\u001b[0m eta \u001b[36m0:00:00\u001b[0mMB/s\u001b[0m eta \u001b[36m0:00:01\u001b[0m\n",
            "\u001b[?25hRequirement already satisfied: python-dateutil>=2.7 in /home/joaopedro/env/lib/python3.11/site-packages (from matplotlib!=3.6.1,>=3.1->seaborn) (2.8.2)\n",
            "Requirement already satisfied: pytz>=2020.1 in /home/joaopedro/env/lib/python3.11/site-packages (from pandas>=0.25->seaborn) (2023.3)\n",
            "Requirement already satisfied: tzdata>=2022.1 in /home/joaopedro/env/lib/python3.11/site-packages (from pandas>=0.25->seaborn) (2023.3)\n",
            "Requirement already satisfied: six>=1.5 in /home/joaopedro/env/lib/python3.11/site-packages (from python-dateutil>=2.7->matplotlib!=3.6.1,>=3.1->seaborn) (1.16.0)\n",
            "Installing collected packages: pyparsing, pillow, kiwisolver, fonttools, cycler, contourpy, matplotlib, seaborn\n",
            "Successfully installed contourpy-1.1.0 cycler-0.11.0 fonttools-4.42.0 kiwisolver-1.4.4 matplotlib-3.7.2 pillow-10.0.0 pyparsing-3.0.9 seaborn-0.12.2\n",
            "Note: you may need to restart the kernel to use updated packages.\n"
          ]
        }
      ],
      "source": [
        "pip install seaborn\n"
      ]
    },
    {
      "cell_type": "code",
      "execution_count": null,
      "id": "2744ac1b-22d3-4f66-ae9a-df90f5738727",
      "metadata": {
        "id": "2744ac1b-22d3-4f66-ae9a-df90f5738727"
      },
      "outputs": [],
      "source": [
        "import pandas as pd\n",
        "import numpy as np\n",
        "import seaborn as sns\n",
        "import matplotlib.pyplot as plt\n",
        "%matplotlib inline"
      ]
    },
    {
      "cell_type": "code",
      "execution_count": null,
      "id": "b30478f1-b64a-43c2-ac96-9e18b25d3ecb",
      "metadata": {
        "id": "b30478f1-b64a-43c2-ac96-9e18b25d3ecb"
      },
      "outputs": [],
      "source": [
        "df = pd.read_csv(\"https://raw.githubusercontent.com/jphysycs/bing/main/Dados-start1.csv\", index_col=0)"
      ]
    },
    {
      "cell_type": "code",
      "execution_count": null,
      "id": "02d34e44-9001-4698-82c0-5ef786612c61",
      "metadata": {
        "id": "02d34e44-9001-4698-82c0-5ef786612c61",
        "outputId": "ea7c5570-5b45-445f-da0c-f3f923041d29"
      },
      "outputs": [
        {
          "data": {
            "text/html": [
              "<div>\n",
              "<style scoped>\n",
              "    .dataframe tbody tr th:only-of-type {\n",
              "        vertical-align: middle;\n",
              "    }\n",
              "\n",
              "    .dataframe tbody tr th {\n",
              "        vertical-align: top;\n",
              "    }\n",
              "\n",
              "    .dataframe thead th {\n",
              "        text-align: right;\n",
              "    }\n",
              "</style>\n",
              "<table border=\"1\" class=\"dataframe\">\n",
              "  <thead>\n",
              "    <tr style=\"text-align: right;\">\n",
              "      <th></th>\n",
              "      <th>A</th>\n",
              "      <th>B</th>\n",
              "      <th>C</th>\n",
              "      <th>D</th>\n",
              "      <th>E</th>\n",
              "      <th>F</th>\n",
              "    </tr>\n",
              "  </thead>\n",
              "  <tbody>\n",
              "    <tr>\n",
              "      <th>NR0</th>\n",
              "      <td>93</td>\n",
              "      <td>1.8</td>\n",
              "      <td>1.4</td>\n",
              "      <td>23.5</td>\n",
              "      <td>25.0</td>\n",
              "      <td>-26.0</td>\n",
              "    </tr>\n",
              "    <tr>\n",
              "      <th>NR2</th>\n",
              "      <td>93</td>\n",
              "      <td>2.2</td>\n",
              "      <td>0.6</td>\n",
              "      <td>22.8</td>\n",
              "      <td>23.4</td>\n",
              "      <td>-3.0</td>\n",
              "    </tr>\n",
              "    <tr>\n",
              "      <th>NR4</th>\n",
              "      <td>93</td>\n",
              "      <td>1.9</td>\n",
              "      <td>0.3</td>\n",
              "      <td>26.8</td>\n",
              "      <td>27.2</td>\n",
              "      <td>2.4</td>\n",
              "    </tr>\n",
              "    <tr>\n",
              "      <th>NR6</th>\n",
              "      <td>92</td>\n",
              "      <td>1.9</td>\n",
              "      <td>1.2</td>\n",
              "      <td>28.0</td>\n",
              "      <td>29.1</td>\n",
              "      <td>3.4</td>\n",
              "    </tr>\n",
              "  </tbody>\n",
              "</table>\n",
              "</div>"
            ],
            "text/plain": [
              "      A    B    C     D     E     F\n",
              "NR0  93  1.8  1.4  23.5  25.0 -26.0\n",
              "NR2  93  2.2  0.6  22.8  23.4  -3.0\n",
              "NR4  93  1.9  0.3  26.8  27.2   2.4\n",
              "NR6  92  1.9  1.2  28.0  29.1   3.4"
            ]
          },
          "execution_count": 5,
          "metadata": {},
          "output_type": "execute_result"
        }
      ],
      "source": [
        "df"
      ]
    },
    {
      "cell_type": "code",
      "execution_count": null,
      "id": "0faba438-be3b-4284-9055-594ef8dc5835",
      "metadata": {
        "id": "0faba438-be3b-4284-9055-594ef8dc5835",
        "outputId": "cdc0b872-ad74-4adc-a697-7eb475e86f1e"
      },
      "outputs": [
        {
          "data": {
            "text/html": [
              "<div>\n",
              "<style scoped>\n",
              "    .dataframe tbody tr th:only-of-type {\n",
              "        vertical-align: middle;\n",
              "    }\n",
              "\n",
              "    .dataframe tbody tr th {\n",
              "        vertical-align: top;\n",
              "    }\n",
              "\n",
              "    .dataframe thead th {\n",
              "        text-align: right;\n",
              "    }\n",
              "</style>\n",
              "<table border=\"1\" class=\"dataframe\">\n",
              "  <thead>\n",
              "    <tr style=\"text-align: right;\">\n",
              "      <th></th>\n",
              "      <th>A</th>\n",
              "      <th>B</th>\n",
              "      <th>C</th>\n",
              "      <th>D</th>\n",
              "      <th>E</th>\n",
              "      <th>F</th>\n",
              "    </tr>\n",
              "  </thead>\n",
              "  <tbody>\n",
              "    <tr>\n",
              "      <th>A</th>\n",
              "      <td>1.000000</td>\n",
              "      <td>0.192450</td>\n",
              "      <td>-0.422890</td>\n",
              "      <td>-0.721348</td>\n",
              "      <td>-0.781303</td>\n",
              "      <td>-0.445836</td>\n",
              "    </tr>\n",
              "    <tr>\n",
              "      <th>B</th>\n",
              "      <td>0.192450</td>\n",
              "      <td>1.000000</td>\n",
              "      <td>-0.507093</td>\n",
              "      <td>-0.431754</td>\n",
              "      <td>-0.551327</td>\n",
              "      <td>0.400094</td>\n",
              "    </tr>\n",
              "    <tr>\n",
              "      <th>C</th>\n",
              "      <td>-0.422890</td>\n",
              "      <td>-0.507093</td>\n",
              "      <td>1.000000</td>\n",
              "      <td>-0.062646</td>\n",
              "      <td>0.132292</td>\n",
              "      <td>-0.619532</td>\n",
              "    </tr>\n",
              "    <tr>\n",
              "      <th>D</th>\n",
              "      <td>-0.721348</td>\n",
              "      <td>-0.431754</td>\n",
              "      <td>-0.062646</td>\n",
              "      <td>1.000000</td>\n",
              "      <td>0.980419</td>\n",
              "      <td>0.639806</td>\n",
              "    </tr>\n",
              "    <tr>\n",
              "      <th>E</th>\n",
              "      <td>-0.781303</td>\n",
              "      <td>-0.551327</td>\n",
              "      <td>0.132292</td>\n",
              "      <td>0.980419</td>\n",
              "      <td>1.000000</td>\n",
              "      <td>0.497840</td>\n",
              "    </tr>\n",
              "    <tr>\n",
              "      <th>F</th>\n",
              "      <td>-0.445836</td>\n",
              "      <td>0.400094</td>\n",
              "      <td>-0.619532</td>\n",
              "      <td>0.639806</td>\n",
              "      <td>0.497840</td>\n",
              "      <td>1.000000</td>\n",
              "    </tr>\n",
              "  </tbody>\n",
              "</table>\n",
              "</div>"
            ],
            "text/plain": [
              "          A         B         C         D         E         F\n",
              "A  1.000000  0.192450 -0.422890 -0.721348 -0.781303 -0.445836\n",
              "B  0.192450  1.000000 -0.507093 -0.431754 -0.551327  0.400094\n",
              "C -0.422890 -0.507093  1.000000 -0.062646  0.132292 -0.619532\n",
              "D -0.721348 -0.431754 -0.062646  1.000000  0.980419  0.639806\n",
              "E -0.781303 -0.551327  0.132292  0.980419  1.000000  0.497840\n",
              "F -0.445836  0.400094 -0.619532  0.639806  0.497840  1.000000"
            ]
          },
          "execution_count": 17,
          "metadata": {},
          "output_type": "execute_result"
        }
      ],
      "source": [
        "corr = df.corr()\n",
        "corr"
      ]
    },
    {
      "cell_type": "code",
      "execution_count": null,
      "id": "9956d5cd-b7ea-4f72-861a-03158f0f37cf",
      "metadata": {
        "id": "9956d5cd-b7ea-4f72-861a-03158f0f37cf",
        "outputId": "3b78a435-b682-4d71-c335-adbaa3085171"
      },
      "outputs": [
        {
          "data": {
            "text/plain": [
              "<Axes: >"
            ]
          },
          "execution_count": 18,
          "metadata": {},
          "output_type": "execute_result"
        },
        {
          "data": {
            "image/png": "[encoded data removed]",
            "text/plain": [
              "<Figure size 640x480 with 2 Axes>"
            ]
          },
          "metadata": {},
          "output_type": "display_data"
        }
      ],
      "source": [
        "sns.heatmap(corr,\n",
        "        xticklabels=corr.columns,\n",
        "        yticklabels=corr.columns, cmap=\"YlGnBu\",annot=True)"
      ]
    },
    {
      "cell_type": "code",
      "execution_count": null,
      "id": "e3bd374e-93ca-4e3c-9cb0-0bd95ca1a438",
      "metadata": {
        "id": "e3bd374e-93ca-4e3c-9cb0-0bd95ca1a438"
      },
      "outputs": [],
      "source": [
        "X = np.array(df.iloc[:,0:7])\n",
        "S = np.cov(np.transpose(X))"
      ]
    },
    {
      "cell_type": "code",
      "execution_count": null,
      "id": "e27b3713-a63a-4a35-a3dc-3673c52cd070",
      "metadata": {
        "id": "e27b3713-a63a-4a35-a3dc-3673c52cd070",
        "outputId": "6672d99a-1b2c-4107-cabe-870abcaf20fa"
      },
      "outputs": [
        {
          "data": {
            "text/plain": [
              "array([[ 93. ,   1.8,   1.4,  23.5,  25. , -26. ],\n",
              "       [ 93. ,   2.2,   0.6,  22.8,  23.4,  -3. ],\n",
              "       [ 93. ,   1.9,   0.3,  26.8,  27.2,   2.4],\n",
              "       [ 92. ,   1.9,   1.2,  28. ,  29.1,   3.4]])"
            ]
          },
          "execution_count": 24,
          "metadata": {},
          "output_type": "execute_result"
        }
      ],
      "source": [
        "X"
      ]
    },
    {
      "cell_type": "code",
      "execution_count": null,
      "id": "2d987f63-32e9-4574-8257-b24ed84e47c3",
      "metadata": {
        "id": "2d987f63-32e9-4574-8257-b24ed84e47c3",
        "outputId": "ca92f2d8-2932-4259-9974-c15c588b4a86"
      },
      "outputs": [
        {
          "data": {
            "text/plain": [
              "array([2.50000000e-01, 3.00000000e-02, 2.62500000e-01, 6.34250000e+00,\n",
              "       6.22916667e+00, 1.89253333e+02])"
            ]
          },
          "execution_count": 25,
          "metadata": {},
          "output_type": "execute_result"
        }
      ],
      "source": [
        "np.diagonal(S)"
      ]
    },
    {
      "cell_type": "code",
      "execution_count": null,
      "id": "63f1601f-03bd-451d-9b20-82e85e27b40d",
      "metadata": {
        "id": "63f1601f-03bd-451d-9b20-82e85e27b40d",
        "outputId": "e69553b2-24b2-4246-8321-75f8663a9b67"
      },
      "outputs": [
        {
          "name": "stdout",
          "output_type": "stream",
          "text": [
            "Collecting scikit-learn\n",
            "  Downloading scikit_learn-1.3.0-cp311-cp311-manylinux_2_17_x86_64.manylinux2014_x86_64.whl (10.9 MB)\n",
            "\u001b[2K     \u001b[38;2;114;156;31m━━━━━━━━━━━━━━━━━━━━━━━━━━━━━━━━━━━━━━━━\u001b[0m \u001b[32m10.9/10.9 MB\u001b[0m \u001b[31m3.7 MB/s\u001b[0m eta \u001b[36m0:00:00\u001b[0mm eta \u001b[36m0:00:01\u001b[0m0:01\u001b[0m:01\u001b[0m\n",
            "\u001b[?25hRequirement already satisfied: numpy>=1.17.3 in /home/joaopedro/env/lib/python3.11/site-packages (from scikit-learn) (1.25.2)\n",
            "Collecting scipy>=1.5.0\n",
            "  Downloading scipy-1.11.1-cp311-cp311-manylinux_2_17_x86_64.manylinux2014_x86_64.whl (36.2 MB)\n",
            "\u001b[2K     \u001b[38;2;114;156;31m━━━━━━━━━━━━━━━━━━━━━━━━━━━━━━━━━━━━━━━━\u001b[0m \u001b[32m36.2/36.2 MB\u001b[0m \u001b[31m3.7 MB/s\u001b[0m eta \u001b[36m0:00:00\u001b[0mm eta \u001b[36m0:00:01\u001b[0m[36m0:00:01\u001b[0m\n",
            "\u001b[?25hCollecting joblib>=1.1.1\n",
            "  Downloading joblib-1.3.1-py3-none-any.whl (301 kB)\n",
            "\u001b[2K     \u001b[38;2;114;156;31m━━━━━━━━━━━━━━━━━━━━━━━━━━━━━━━━━━━━━━━\u001b[0m \u001b[32m302.0/302.0 kB\u001b[0m \u001b[31m1.7 MB/s\u001b[0m eta \u001b[36m0:00:00\u001b[0m[36m0:00:01\u001b[0m[36m0:00:01\u001b[0m\n",
            "\u001b[?25hCollecting threadpoolctl>=2.0.0\n",
            "  Downloading threadpoolctl-3.2.0-py3-none-any.whl (15 kB)\n",
            "Installing collected packages: threadpoolctl, scipy, joblib, scikit-learn\n",
            "Successfully installed joblib-1.3.1 scikit-learn-1.3.0 scipy-1.11.1 threadpoolctl-3.2.0\n",
            "Note: you may need to restart the kernel to use updated packages.\n"
          ]
        }
      ],
      "source": [
        "pip install scikit-learn"
      ]
    },
    {
      "cell_type": "code",
      "execution_count": null,
      "id": "7c0d2209-c770-4034-a173-cd5dafa905e7",
      "metadata": {
        "id": "7c0d2209-c770-4034-a173-cd5dafa905e7"
      },
      "outputs": [],
      "source": [
        "from sklearn.decomposition import PCA\n",
        "\n",
        "pca = PCA(n_components=4)"
      ]
    },
    {
      "cell_type": "code",
      "execution_count": null,
      "id": "5d8915c0-0a6f-4cb2-95e7-af79999b5c04",
      "metadata": {
        "id": "5d8915c0-0a6f-4cb2-95e7-af79999b5c04",
        "outputId": "16840820-3f3e-45ce-948b-e77b04e6f702"
      },
      "outputs": [
        {
          "data": {
            "text/html": [
              "<style>#sk-container-id-6 {color: black;}#sk-container-id-6 pre{padding: 0;}#sk-container-id-6 div.sk-toggleable {background-color: white;}#sk-container-id-6 label.sk-toggleable__label {cursor: pointer;display: block;width: 100%;margin-bottom: 0;padding: 0.3em;box-sizing: border-box;text-align: center;}#sk-container-id-6 label.sk-toggleable__label-arrow:before {content: \"▸\";float: left;margin-right: 0.25em;color: #696969;}#sk-container-id-6 label.sk-toggleable__label-arrow:hover:before {color: black;}#sk-container-id-6 div.sk-estimator:hover label.sk-toggleable__label-arrow:before {color: black;}#sk-container-id-6 div.sk-toggleable__content {max-height: 0;max-width: 0;overflow: hidden;text-align: left;background-color: #f0f8ff;}#sk-container-id-6 div.sk-toggleable__content pre {margin: 0.2em;color: black;border-radius: 0.25em;background-color: #f0f8ff;}#sk-container-id-6 input.sk-toggleable__control:checked~div.sk-toggleable__content {max-height: 200px;max-width: 100%;overflow: auto;}#sk-container-id-6 input.sk-toggleable__control:checked~label.sk-toggleable__label-arrow:before {content: \"▾\";}#sk-container-id-6 div.sk-estimator input.sk-toggleable__control:checked~label.sk-toggleable__label {background-color: #d4ebff;}#sk-container-id-6 div.sk-label input.sk-toggleable__control:checked~label.sk-toggleable__label {background-color: #d4ebff;}#sk-container-id-6 input.sk-hidden--visually {border: 0;clip: rect(1px 1px 1px 1px);clip: rect(1px, 1px, 1px, 1px);height: 1px;margin: -1px;overflow: hidden;padding: 0;position: absolute;width: 1px;}#sk-container-id-6 div.sk-estimator {font-family: monospace;background-color: #f0f8ff;border: 1px dotted black;border-radius: 0.25em;box-sizing: border-box;margin-bottom: 0.5em;}#sk-container-id-6 div.sk-estimator:hover {background-color: #d4ebff;}#sk-container-id-6 div.sk-parallel-item::after {content: \"\";width: 100%;border-bottom: 1px solid gray;flex-grow: 1;}#sk-container-id-6 div.sk-label:hover label.sk-toggleable__label {background-color: #d4ebff;}#sk-container-id-6 div.sk-serial::before {content: \"\";position: absolute;border-left: 1px solid gray;box-sizing: border-box;top: 0;bottom: 0;left: 50%;z-index: 0;}#sk-container-id-6 div.sk-serial {display: flex;flex-direction: column;align-items: center;background-color: white;padding-right: 0.2em;padding-left: 0.2em;position: relative;}#sk-container-id-6 div.sk-item {position: relative;z-index: 1;}#sk-container-id-6 div.sk-parallel {display: flex;align-items: stretch;justify-content: center;background-color: white;position: relative;}#sk-container-id-6 div.sk-item::before, #sk-container-id-6 div.sk-parallel-item::before {content: \"\";position: absolute;border-left: 1px solid gray;box-sizing: border-box;top: 0;bottom: 0;left: 50%;z-index: -1;}#sk-container-id-6 div.sk-parallel-item {display: flex;flex-direction: column;z-index: 1;position: relative;background-color: white;}#sk-container-id-6 div.sk-parallel-item:first-child::after {align-self: flex-end;width: 50%;}#sk-container-id-6 div.sk-parallel-item:last-child::after {align-self: flex-start;width: 50%;}#sk-container-id-6 div.sk-parallel-item:only-child::after {width: 0;}#sk-container-id-6 div.sk-dashed-wrapped {border: 1px dashed gray;margin: 0 0.4em 0.5em 0.4em;box-sizing: border-box;padding-bottom: 0.4em;background-color: white;}#sk-container-id-6 div.sk-label label {font-family: monospace;font-weight: bold;display: inline-block;line-height: 1.2em;}#sk-container-id-6 div.sk-label-container {text-align: center;}#sk-container-id-6 div.sk-container {/* jupyter's `normalize.less` sets `[hidden] { display: none; }` but bootstrap.min.css set `[hidden] { display: none !important; }` so we also need the `!important` here to be able to override the default hidden behavior on the sphinx rendered scikit-learn.org. See: https://github.com/scikit-learn/scikit-learn/issues/21755 */display: inline-block !important;position: relative;}#sk-container-id-6 div.sk-text-repr-fallback {display: none;}</style><div id=\"sk-container-id-6\" class=\"sk-top-container\"><div class=\"sk-text-repr-fallback\"><pre>PCA(n_components=4)</pre><b>In a Jupyter environment, please rerun this cell to show the HTML representation or trust the notebook. <br />On GitHub, the HTML representation is unable to render, please try loading this page with nbviewer.org.</b></div><div class=\"sk-container\" hidden><div class=\"sk-item\"><div class=\"sk-estimator sk-toggleable\"><input class=\"sk-toggleable__control sk-hidden--visually\" id=\"sk-estimator-id-6\" type=\"checkbox\" checked><label for=\"sk-estimator-id-6\" class=\"sk-toggleable__label sk-toggleable__label-arrow\">PCA</label><div class=\"sk-toggleable__content\"><pre>PCA(n_components=4)</pre></div></div></div></div></div>"
            ],
            "text/plain": [
              "PCA(n_components=4)"
            ]
          },
          "execution_count": 65,
          "metadata": {},
          "output_type": "execute_result"
        }
      ],
      "source": [
        "pca"
      ]
    },
    {
      "cell_type": "code",
      "execution_count": null,
      "id": "0dcafa46-4aa6-46b4-be28-a6f76e097555",
      "metadata": {
        "id": "0dcafa46-4aa6-46b4-be28-a6f76e097555",
        "outputId": "e66a190b-8c84-4636-cbeb-2a08d0f14f34"
      },
      "outputs": [
        {
          "data": {
            "text/html": [
              "<style>#sk-container-id-7 {color: black;}#sk-container-id-7 pre{padding: 0;}#sk-container-id-7 div.sk-toggleable {background-color: white;}#sk-container-id-7 label.sk-toggleable__label {cursor: pointer;display: block;width: 100%;margin-bottom: 0;padding: 0.3em;box-sizing: border-box;text-align: center;}#sk-container-id-7 label.sk-toggleable__label-arrow:before {content: \"▸\";float: left;margin-right: 0.25em;color: #696969;}#sk-container-id-7 label.sk-toggleable__label-arrow:hover:before {color: black;}#sk-container-id-7 div.sk-estimator:hover label.sk-toggleable__label-arrow:before {color: black;}#sk-container-id-7 div.sk-toggleable__content {max-height: 0;max-width: 0;overflow: hidden;text-align: left;background-color: #f0f8ff;}#sk-container-id-7 div.sk-toggleable__content pre {margin: 0.2em;color: black;border-radius: 0.25em;background-color: #f0f8ff;}#sk-container-id-7 input.sk-toggleable__control:checked~div.sk-toggleable__content {max-height: 200px;max-width: 100%;overflow: auto;}#sk-container-id-7 input.sk-toggleable__control:checked~label.sk-toggleable__label-arrow:before {content: \"▾\";}#sk-container-id-7 div.sk-estimator input.sk-toggleable__control:checked~label.sk-toggleable__label {background-color: #d4ebff;}#sk-container-id-7 div.sk-label input.sk-toggleable__control:checked~label.sk-toggleable__label {background-color: #d4ebff;}#sk-container-id-7 input.sk-hidden--visually {border: 0;clip: rect(1px 1px 1px 1px);clip: rect(1px, 1px, 1px, 1px);height: 1px;margin: -1px;overflow: hidden;padding: 0;position: absolute;width: 1px;}#sk-container-id-7 div.sk-estimator {font-family: monospace;background-color: #f0f8ff;border: 1px dotted black;border-radius: 0.25em;box-sizing: border-box;margin-bottom: 0.5em;}#sk-container-id-7 div.sk-estimator:hover {background-color: #d4ebff;}#sk-container-id-7 div.sk-parallel-item::after {content: \"\";width: 100%;border-bottom: 1px solid gray;flex-grow: 1;}#sk-container-id-7 div.sk-label:hover label.sk-toggleable__label {background-color: #d4ebff;}#sk-container-id-7 div.sk-serial::before {content: \"\";position: absolute;border-left: 1px solid gray;box-sizing: border-box;top: 0;bottom: 0;left: 50%;z-index: 0;}#sk-container-id-7 div.sk-serial {display: flex;flex-direction: column;align-items: center;background-color: white;padding-right: 0.2em;padding-left: 0.2em;position: relative;}#sk-container-id-7 div.sk-item {position: relative;z-index: 1;}#sk-container-id-7 div.sk-parallel {display: flex;align-items: stretch;justify-content: center;background-color: white;position: relative;}#sk-container-id-7 div.sk-item::before, #sk-container-id-7 div.sk-parallel-item::before {content: \"\";position: absolute;border-left: 1px solid gray;box-sizing: border-box;top: 0;bottom: 0;left: 50%;z-index: -1;}#sk-container-id-7 div.sk-parallel-item {display: flex;flex-direction: column;z-index: 1;position: relative;background-color: white;}#sk-container-id-7 div.sk-parallel-item:first-child::after {align-self: flex-end;width: 50%;}#sk-container-id-7 div.sk-parallel-item:last-child::after {align-self: flex-start;width: 50%;}#sk-container-id-7 div.sk-parallel-item:only-child::after {width: 0;}#sk-container-id-7 div.sk-dashed-wrapped {border: 1px dashed gray;margin: 0 0.4em 0.5em 0.4em;box-sizing: border-box;padding-bottom: 0.4em;background-color: white;}#sk-container-id-7 div.sk-label label {font-family: monospace;font-weight: bold;display: inline-block;line-height: 1.2em;}#sk-container-id-7 div.sk-label-container {text-align: center;}#sk-container-id-7 div.sk-container {/* jupyter's `normalize.less` sets `[hidden] { display: none; }` but bootstrap.min.css set `[hidden] { display: none !important; }` so we also need the `!important` here to be able to override the default hidden behavior on the sphinx rendered scikit-learn.org. See: https://github.com/scikit-learn/scikit-learn/issues/21755 */display: inline-block !important;position: relative;}#sk-container-id-7 div.sk-text-repr-fallback {display: none;}</style><div id=\"sk-container-id-7\" class=\"sk-top-container\"><div class=\"sk-text-repr-fallback\"><pre>PCA(n_components=4)</pre><b>In a Jupyter environment, please rerun this cell to show the HTML representation or trust the notebook. <br />On GitHub, the HTML representation is unable to render, please try loading this page with nbviewer.org.</b></div><div class=\"sk-container\" hidden><div class=\"sk-item\"><div class=\"sk-estimator sk-toggleable\"><input class=\"sk-toggleable__control sk-hidden--visually\" id=\"sk-estimator-id-7\" type=\"checkbox\" checked><label for=\"sk-estimator-id-7\" class=\"sk-toggleable__label sk-toggleable__label-arrow\">PCA</label><div class=\"sk-toggleable__content\"><pre>PCA(n_components=4)</pre></div></div></div></div></div>"
            ],
            "text/plain": [
              "PCA(n_components=4)"
            ]
          },
          "execution_count": 66,
          "metadata": {},
          "output_type": "execute_result"
        }
      ],
      "source": [
        "pca.fit(X)"
      ]
    },
    {
      "cell_type": "code",
      "execution_count": null,
      "id": "4a5bfde8-4858-4152-8d86-dde2cd5d1613",
      "metadata": {
        "id": "4a5bfde8-4858-4152-8d86-dde2cd5d1613",
        "outputId": "7a88d8a5-d3b3-4776-b946-54df1a8a4851"
      },
      "outputs": [
        {
          "data": {
            "text/plain": [
              "array([[ 0.01668307, -0.00463344,  0.02225718, -0.12004176, -0.09406752,\n",
              "        -0.98789984],\n",
              "       [ 0.10542195,  0.05296398, -0.08986531, -0.64755427, -0.73265792,\n",
              "         0.14795637],\n",
              "       [ 0.6594256 , -0.09806213, -0.64637676,  0.34178411, -0.14127483,\n",
              "        -0.03104556],\n",
              "       [-0.70948748,  0.05892103, -0.69851892,  0.04018586, -0.05328359,\n",
              "        -0.02780466]])"
            ]
          },
          "execution_count": 67,
          "metadata": {},
          "output_type": "execute_result"
        }
      ],
      "source": [
        "# Pesos das componentes principais\n",
        "pca.components_"
      ]
    },
    {
      "cell_type": "code",
      "execution_count": null,
      "id": "ae4f4a7e-b4f8-4662-9559-36d924f1b93c",
      "metadata": {
        "id": "ae4f4a7e-b4f8-4662-9559-36d924f1b93c",
        "outputId": "26196190-2016-4a6f-eb09-50e93fd7b815"
      },
      "outputs": [
        {
          "data": {
            "text/plain": [
              "array([0.96, 0.04, 0.  , 0.  ])"
            ]
          },
          "execution_count": 68,
          "metadata": {},
          "output_type": "execute_result"
        }
      ],
      "source": [
        "# 3. Quantas componentes explicam ao menos 90% da variabilidade dos dados?\n",
        "\n",
        "# Variância das componentes principais\n",
        "\n",
        "pca.explained_variance_ratio_\n",
        "np.round(pca.explained_variance_ratio_,2)"
      ]
    },
    {
      "cell_type": "code",
      "execution_count": null,
      "id": "7c1fc36d-3e71-4e05-b076-34727bc5d028",
      "metadata": {
        "id": "7c1fc36d-3e71-4e05-b076-34727bc5d028",
        "outputId": "c2f85fb9-4338-4321-8720-bd53e95b3da4"
      },
      "outputs": [
        {
          "data": {
            "text/plain": [
              "array([0.95731336, 0.99883293, 1.        , 1.        ])"
            ]
          },
          "execution_count": 69,
          "metadata": {},
          "output_type": "execute_result"
        }
      ],
      "source": [
        "pca.explained_variance_ratio_.cumsum()"
      ]
    },
    {
      "cell_type": "code",
      "execution_count": null,
      "id": "c294c401-bda4-4500-bf37-757218844c65",
      "metadata": {
        "id": "c294c401-bda4-4500-bf37-757218844c65",
        "outputId": "5e095b0a-e1d6-431d-a986-c1a1208d9838"
      },
      "outputs": [
        {
          "data": {
            "image/png": "[encoded data removed]",
            "text/plain": [
              "<Figure size 800x500 with 1 Axes>"
            ]
          },
          "metadata": {},
          "output_type": "display_data"
        }
      ],
      "source": [
        "#Gráfico de cotovelo\n",
        "#Critério para seleção do numero de PCA:Inclinação do segmento de reta entre dois pontos esteja suficientemente horizontal\n",
        "\n",
        "fig = plt.figure(figsize=(8,5))\n",
        "\n",
        "plt.plot(pca.explained_variance_ratio_,  'ro-', linewidth=2)\n",
        "plt.title('Scree Plot')\n",
        "plt.xlabel('Principal Component')\n",
        "plt.ylabel('Eigenvalue')\n",
        "\n",
        "plt.show()"
      ]
    },
    {
      "cell_type": "code",
      "execution_count": null,
      "id": "d1224e0d-c585-49b6-9de1-3b34117ae40f",
      "metadata": {
        "id": "d1224e0d-c585-49b6-9de1-3b34117ae40f",
        "outputId": "e2035a18-b982-4725-8fe5-ebdff6e6a544"
      },
      "outputs": [
        {
          "data": {
            "text/plain": [
              "array([[ 2.02957311e+01, -1.00720516e+00,  2.66694309e-02,\n",
              "        -6.32582318e-15],\n",
              "       [-2.21108717e+00,  4.11440984e+00, -2.22711100e-01,\n",
              "         1.79268269e-15],\n",
              "       [-8.38865705e+00, -4.49872566e-01,  6.63266586e-01,\n",
              "         2.55718505e-15],\n",
              "       [-9.69598690e+00, -2.65733211e+00, -4.67224916e-01,\n",
              "         1.55798433e-15]])"
            ]
          },
          "execution_count": 71,
          "metadata": {},
          "output_type": "execute_result"
        }
      ],
      "source": [
        "#Obter os scores das componentes principais\n",
        "pca.transform(X)"
      ]
    },
    {
      "cell_type": "code",
      "execution_count": null,
      "id": "62807b87-20e1-4194-9cec-b6ed319f9888",
      "metadata": {
        "id": "62807b87-20e1-4194-9cec-b6ed319f9888"
      },
      "outputs": [],
      "source": [
        "PCA1=pca.transform(X)[:,0]\n",
        "PCA2=pca.transform(X)[:,1]"
      ]
    },
    {
      "cell_type": "code",
      "execution_count": null,
      "id": "4853ee2b-d83b-477e-bb76-c5737445e92c",
      "metadata": {
        "id": "4853ee2b-d83b-477e-bb76-c5737445e92c",
        "outputId": "0b10e280-ba90-4abd-d049-4ffc95d591f4"
      },
      "outputs": [
        {
          "data": {
            "text/plain": [
              "array([20.29573112, -2.21108717, -8.38865705, -9.6959869 ])"
            ]
          },
          "execution_count": 73,
          "metadata": {},
          "output_type": "execute_result"
        }
      ],
      "source": [
        "PCA1"
      ]
    },
    {
      "cell_type": "code",
      "execution_count": null,
      "id": "6df43593-e438-4e26-a906-d92ff683a851",
      "metadata": {
        "id": "6df43593-e438-4e26-a906-d92ff683a851"
      },
      "outputs": [],
      "source": [
        "df['PCA1'] = PCA1\n",
        "df['PCA2'] = PCA2"
      ]
    },
    {
      "cell_type": "code",
      "execution_count": null,
      "id": "2c38d908-0656-4c1e-ab9a-4922645949a3",
      "metadata": {
        "id": "2c38d908-0656-4c1e-ab9a-4922645949a3",
        "outputId": "980bed3d-8ad5-48f2-88b9-ae242d65c7bb"
      },
      "outputs": [
        {
          "data": {
            "text/html": [
              "<div>\n",
              "<style scoped>\n",
              "    .dataframe tbody tr th:only-of-type {\n",
              "        vertical-align: middle;\n",
              "    }\n",
              "\n",
              "    .dataframe tbody tr th {\n",
              "        vertical-align: top;\n",
              "    }\n",
              "\n",
              "    .dataframe thead th {\n",
              "        text-align: right;\n",
              "    }\n",
              "</style>\n",
              "<table border=\"1\" class=\"dataframe\">\n",
              "  <thead>\n",
              "    <tr style=\"text-align: right;\">\n",
              "      <th></th>\n",
              "      <th>A</th>\n",
              "      <th>B</th>\n",
              "      <th>C</th>\n",
              "      <th>D</th>\n",
              "      <th>E</th>\n",
              "      <th>F</th>\n",
              "      <th>PCA1</th>\n",
              "      <th>PCA2</th>\n",
              "    </tr>\n",
              "  </thead>\n",
              "  <tbody>\n",
              "    <tr>\n",
              "      <th>NR0</th>\n",
              "      <td>93</td>\n",
              "      <td>1.8</td>\n",
              "      <td>1.4</td>\n",
              "      <td>23.5</td>\n",
              "      <td>25.0</td>\n",
              "      <td>-26.0</td>\n",
              "      <td>20.295731</td>\n",
              "      <td>-1.007205</td>\n",
              "    </tr>\n",
              "    <tr>\n",
              "      <th>NR2</th>\n",
              "      <td>93</td>\n",
              "      <td>2.2</td>\n",
              "      <td>0.6</td>\n",
              "      <td>22.8</td>\n",
              "      <td>23.4</td>\n",
              "      <td>-3.0</td>\n",
              "      <td>-2.211087</td>\n",
              "      <td>4.114410</td>\n",
              "    </tr>\n",
              "    <tr>\n",
              "      <th>NR4</th>\n",
              "      <td>93</td>\n",
              "      <td>1.9</td>\n",
              "      <td>0.3</td>\n",
              "      <td>26.8</td>\n",
              "      <td>27.2</td>\n",
              "      <td>2.4</td>\n",
              "      <td>-8.388657</td>\n",
              "      <td>-0.449873</td>\n",
              "    </tr>\n",
              "    <tr>\n",
              "      <th>NR6</th>\n",
              "      <td>92</td>\n",
              "      <td>1.9</td>\n",
              "      <td>1.2</td>\n",
              "      <td>28.0</td>\n",
              "      <td>29.1</td>\n",
              "      <td>3.4</td>\n",
              "      <td>-9.695987</td>\n",
              "      <td>-2.657332</td>\n",
              "    </tr>\n",
              "  </tbody>\n",
              "</table>\n",
              "</div>"
            ],
            "text/plain": [
              "      A    B    C     D     E     F       PCA1      PCA2\n",
              "NR0  93  1.8  1.4  23.5  25.0 -26.0  20.295731 -1.007205\n",
              "NR2  93  2.2  0.6  22.8  23.4  -3.0  -2.211087  4.114410\n",
              "NR4  93  1.9  0.3  26.8  27.2   2.4  -8.388657 -0.449873\n",
              "NR6  92  1.9  1.2  28.0  29.1   3.4  -9.695987 -2.657332"
            ]
          },
          "execution_count": 75,
          "metadata": {},
          "output_type": "execute_result"
        }
      ],
      "source": [
        "df"
      ]
    },
    {
      "cell_type": "code",
      "execution_count": null,
      "id": "7b86ae88-1da4-4f24-8625-93b07210ae99",
      "metadata": {
        "id": "7b86ae88-1da4-4f24-8625-93b07210ae99",
        "outputId": "0709d90f-97cf-4b36-edda-5f7d4860a074"
      },
      "outputs": [
        {
          "data": {
            "text/plain": [
              "array([ 0.0166831, -0.0046334,  0.0222572, -0.1200418, -0.0940675,\n",
              "       -0.9878998])"
            ]
          },
          "execution_count": 76,
          "metadata": {},
          "output_type": "execute_result"
        }
      ],
      "source": [
        "np.round(pca.components_[0],7)"
      ]
    },
    {
      "cell_type": "code",
      "execution_count": null,
      "id": "69eccbbc-ac74-4dcf-924b-1b42a590712b",
      "metadata": {
        "id": "69eccbbc-ac74-4dcf-924b-1b42a590712b",
        "outputId": "53c561fb-2686-4ea7-aa74-0b5728e9f9e9"
      },
      "outputs": [
        {
          "data": {
            "text/html": [
              "<div>\n",
              "<style scoped>\n",
              "    .dataframe tbody tr th:only-of-type {\n",
              "        vertical-align: middle;\n",
              "    }\n",
              "\n",
              "    .dataframe tbody tr th {\n",
              "        vertical-align: top;\n",
              "    }\n",
              "\n",
              "    .dataframe thead th {\n",
              "        text-align: right;\n",
              "    }\n",
              "</style>\n",
              "<table border=\"1\" class=\"dataframe\">\n",
              "  <thead>\n",
              "    <tr style=\"text-align: right;\">\n",
              "      <th></th>\n",
              "      <th>A</th>\n",
              "      <th>B</th>\n",
              "      <th>C</th>\n",
              "      <th>D</th>\n",
              "      <th>E</th>\n",
              "      <th>F</th>\n",
              "      <th>PCA1</th>\n",
              "      <th>PCA2</th>\n",
              "    </tr>\n",
              "  </thead>\n",
              "  <tbody>\n",
              "    <tr>\n",
              "      <th>NR0</th>\n",
              "      <td>93</td>\n",
              "      <td>1.8</td>\n",
              "      <td>1.4</td>\n",
              "      <td>23.5</td>\n",
              "      <td>25.0</td>\n",
              "      <td>-26.0</td>\n",
              "      <td>20.295731</td>\n",
              "      <td>-1.007205</td>\n",
              "    </tr>\n",
              "    <tr>\n",
              "      <th>NR2</th>\n",
              "      <td>93</td>\n",
              "      <td>2.2</td>\n",
              "      <td>0.6</td>\n",
              "      <td>22.8</td>\n",
              "      <td>23.4</td>\n",
              "      <td>-3.0</td>\n",
              "      <td>-2.211087</td>\n",
              "      <td>4.114410</td>\n",
              "    </tr>\n",
              "    <tr>\n",
              "      <th>NR4</th>\n",
              "      <td>93</td>\n",
              "      <td>1.9</td>\n",
              "      <td>0.3</td>\n",
              "      <td>26.8</td>\n",
              "      <td>27.2</td>\n",
              "      <td>2.4</td>\n",
              "      <td>-8.388657</td>\n",
              "      <td>-0.449873</td>\n",
              "    </tr>\n",
              "    <tr>\n",
              "      <th>NR6</th>\n",
              "      <td>92</td>\n",
              "      <td>1.9</td>\n",
              "      <td>1.2</td>\n",
              "      <td>28.0</td>\n",
              "      <td>29.1</td>\n",
              "      <td>3.4</td>\n",
              "      <td>-9.695987</td>\n",
              "      <td>-2.657332</td>\n",
              "    </tr>\n",
              "  </tbody>\n",
              "</table>\n",
              "</div>"
            ],
            "text/plain": [
              "      A    B    C     D     E     F       PCA1      PCA2\n",
              "NR0  93  1.8  1.4  23.5  25.0 -26.0  20.295731 -1.007205\n",
              "NR2  93  2.2  0.6  22.8  23.4  -3.0  -2.211087  4.114410\n",
              "NR4  93  1.9  0.3  26.8  27.2   2.4  -8.388657 -0.449873\n",
              "NR6  92  1.9  1.2  28.0  29.1   3.4  -9.695987 -2.657332"
            ]
          },
          "execution_count": 77,
          "metadata": {},
          "output_type": "execute_result"
        }
      ],
      "source": [
        "df.sort_values(by='PCA1',ascending=False)"
      ]
    },
    {
      "cell_type": "code",
      "execution_count": null,
      "id": "98b5addc-dd57-465c-bc6f-d2f382dfa9bf",
      "metadata": {
        "id": "98b5addc-dd57-465c-bc6f-d2f382dfa9bf",
        "outputId": "f1a99eb9-7508-44cc-f693-2fc9a8ca174a"
      },
      "outputs": [
        {
          "data": {
            "text/html": [
              "<div>\n",
              "<style scoped>\n",
              "    .dataframe tbody tr th:only-of-type {\n",
              "        vertical-align: middle;\n",
              "    }\n",
              "\n",
              "    .dataframe tbody tr th {\n",
              "        vertical-align: top;\n",
              "    }\n",
              "\n",
              "    .dataframe thead th {\n",
              "        text-align: right;\n",
              "    }\n",
              "</style>\n",
              "<table border=\"1\" class=\"dataframe\">\n",
              "  <thead>\n",
              "    <tr style=\"text-align: right;\">\n",
              "      <th></th>\n",
              "      <th>A</th>\n",
              "      <th>B</th>\n",
              "      <th>C</th>\n",
              "      <th>D</th>\n",
              "      <th>E</th>\n",
              "      <th>F</th>\n",
              "      <th>PCA1</th>\n",
              "      <th>PCA2</th>\n",
              "    </tr>\n",
              "  </thead>\n",
              "  <tbody>\n",
              "    <tr>\n",
              "      <th>NR2</th>\n",
              "      <td>93</td>\n",
              "      <td>2.2</td>\n",
              "      <td>0.6</td>\n",
              "      <td>22.8</td>\n",
              "      <td>23.4</td>\n",
              "      <td>-3.0</td>\n",
              "      <td>-2.211087</td>\n",
              "      <td>4.114410</td>\n",
              "    </tr>\n",
              "    <tr>\n",
              "      <th>NR4</th>\n",
              "      <td>93</td>\n",
              "      <td>1.9</td>\n",
              "      <td>0.3</td>\n",
              "      <td>26.8</td>\n",
              "      <td>27.2</td>\n",
              "      <td>2.4</td>\n",
              "      <td>-8.388657</td>\n",
              "      <td>-0.449873</td>\n",
              "    </tr>\n",
              "    <tr>\n",
              "      <th>NR0</th>\n",
              "      <td>93</td>\n",
              "      <td>1.8</td>\n",
              "      <td>1.4</td>\n",
              "      <td>23.5</td>\n",
              "      <td>25.0</td>\n",
              "      <td>-26.0</td>\n",
              "      <td>20.295731</td>\n",
              "      <td>-1.007205</td>\n",
              "    </tr>\n",
              "    <tr>\n",
              "      <th>NR6</th>\n",
              "      <td>92</td>\n",
              "      <td>1.9</td>\n",
              "      <td>1.2</td>\n",
              "      <td>28.0</td>\n",
              "      <td>29.1</td>\n",
              "      <td>3.4</td>\n",
              "      <td>-9.695987</td>\n",
              "      <td>-2.657332</td>\n",
              "    </tr>\n",
              "  </tbody>\n",
              "</table>\n",
              "</div>"
            ],
            "text/plain": [
              "      A    B    C     D     E     F       PCA1      PCA2\n",
              "NR2  93  2.2  0.6  22.8  23.4  -3.0  -2.211087  4.114410\n",
              "NR4  93  1.9  0.3  26.8  27.2   2.4  -8.388657 -0.449873\n",
              "NR0  93  1.8  1.4  23.5  25.0 -26.0  20.295731 -1.007205\n",
              "NR6  92  1.9  1.2  28.0  29.1   3.4  -9.695987 -2.657332"
            ]
          },
          "execution_count": 78,
          "metadata": {},
          "output_type": "execute_result"
        }
      ],
      "source": [
        "df.sort_values(by='PCA2',ascending=False)"
      ]
    }
  ],
  "metadata": {
    "kernelspec": {
      "display_name": "Python 3 (ipykernel)",
      "language": "python",
      "name": "python3"
    },
    "language_info": {
      "codemirror_mode": {
        "name": "ipython",
        "version": 3
      },
      "file_extension": ".py",
      "mimetype": "text/x-python",
      "name": "python",
      "nbconvert_exporter": "python",
      "pygments_lexer": "ipython3",
      "version": "3.11.4"
    },
    "colab": {
      "provenance": [],
      "include_colab_link": true
    }
  },
  "nbformat": 4,
  "nbformat_minor": 5
}